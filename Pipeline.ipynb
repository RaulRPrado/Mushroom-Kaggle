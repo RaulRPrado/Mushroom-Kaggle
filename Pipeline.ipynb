{
 "cells": [
  {
   "cell_type": "markdown",
   "id": "7cf1f058",
   "metadata": {},
   "source": [
    "# Mushroom dataset\n",
    "### Playing around with encoders and feature selection\n",
    "\n"
   ]
  },
  {
   "cell_type": "code",
   "execution_count": 48,
   "id": "1cd82bbc",
   "metadata": {},
   "outputs": [],
   "source": [
    "import numpy as np\n",
    "import pandas as pd\n",
    "import seaborn as sns\n",
    "import matplotlib.pyplot as plt\n",
    "\n",
    "import category_encoders as ce\n",
    "\n",
    "from sklearn.metrics import recall_score\n",
    "from sklearn.pipeline import make_pipeline\n",
    "from sklearn.linear_model import LogisticRegression\n",
    "from sklearn.feature_selection import chi2, SelectKBest\n",
    "from sklearn.model_selection import validation_curve, train_test_split"
   ]
  },
  {
   "cell_type": "markdown",
   "id": "d8236dec",
   "metadata": {},
   "source": [
    "## Preparing data"
   ]
  },
  {
   "cell_type": "code",
   "execution_count": 3,
   "id": "7d646404",
   "metadata": {},
   "outputs": [],
   "source": [
    "data = pd.read_csv('data/mushrooms.csv')"
   ]
  },
  {
   "cell_type": "code",
   "execution_count": null,
   "id": "01cd93dd",
   "metadata": {},
   "outputs": [],
   "source": []
  },
  {
   "cell_type": "code",
   "execution_count": 4,
   "id": "b0d62c44",
   "metadata": {},
   "outputs": [],
   "source": [
    "data['target'] = pd.get_dummies(data['class'], drop_first=True)['p']"
   ]
  },
  {
   "cell_type": "code",
   "execution_count": 5,
   "id": "87c85437",
   "metadata": {},
   "outputs": [
    {
     "name": "stdout",
     "output_type": "stream",
     "text": [
      "FEATURES = ['cap-shape', 'cap-surface', 'cap-color', 'bruises', 'odor', 'gill-attachment', 'gill-spacing', 'gill-size', 'gill-color', 'stalk-shape', 'stalk-root', 'stalk-surface-above-ring', 'stalk-surface-below-ring', 'stalk-color-above-ring', 'stalk-color-below-ring', 'veil-type', 'veil-color', 'ring-number', 'ring-type', 'spore-print-color', 'population', 'habitat']\n"
     ]
    }
   ],
   "source": [
    "FEATURES = list(data.columns)\n",
    "FEATURES.remove('class')\n",
    "FEATURES.remove('target')\n",
    "print('FEATURES = {}'.format(FEATURES))"
   ]
  },
  {
   "cell_type": "code",
   "execution_count": 7,
   "id": "cd227e0f",
   "metadata": {},
   "outputs": [],
   "source": [
    "X = data[FEATURES]\n",
    "y = data['target']"
   ]
  },
  {
   "cell_type": "code",
   "execution_count": 8,
   "id": "102adb86",
   "metadata": {},
   "outputs": [],
   "source": [
    "X_train, X_test, y_train, y_test = train_test_split(X, y, test_size=0.3)"
   ]
  },
  {
   "cell_type": "markdown",
   "id": "9261e516",
   "metadata": {},
   "source": [
    "## Example with OneHotEncoder"
   ]
  },
  {
   "cell_type": "code",
   "execution_count": 50,
   "id": "5766bc40",
   "metadata": {},
   "outputs": [],
   "source": [
    "pipe = make_pipeline(\n",
    "    ce.OneHotEncoder(),\n",
    "    SelectKBest(chi2, k=60),\n",
    "    LogisticRegression(C=1)\n",
    ")"
   ]
  },
  {
   "cell_type": "code",
   "execution_count": 51,
   "id": "4d284b65",
   "metadata": {},
   "outputs": [
    {
     "data": {
      "text/plain": [
       "{'memory': None,\n",
       " 'steps': [('onehotencoder', OneHotEncoder()),\n",
       "  ('selectkbest',\n",
       "   SelectKBest(k=60, score_func=<function chi2 at 0x7fb6f7eb78b0>)),\n",
       "  ('logisticregression', LogisticRegression(C=1))],\n",
       " 'verbose': False,\n",
       " 'onehotencoder': OneHotEncoder(),\n",
       " 'selectkbest': SelectKBest(k=60, score_func=<function chi2 at 0x7fb6f7eb78b0>),\n",
       " 'logisticregression': LogisticRegression(C=1),\n",
       " 'onehotencoder__cols': None,\n",
       " 'onehotencoder__drop_invariant': False,\n",
       " 'onehotencoder__handle_missing': 'value',\n",
       " 'onehotencoder__handle_unknown': 'value',\n",
       " 'onehotencoder__return_df': True,\n",
       " 'onehotencoder__use_cat_names': False,\n",
       " 'onehotencoder__verbose': 0,\n",
       " 'selectkbest__k': 60,\n",
       " 'selectkbest__score_func': <function sklearn.feature_selection._univariate_selection.chi2(X, y)>,\n",
       " 'logisticregression__C': 1,\n",
       " 'logisticregression__class_weight': None,\n",
       " 'logisticregression__dual': False,\n",
       " 'logisticregression__fit_intercept': True,\n",
       " 'logisticregression__intercept_scaling': 1,\n",
       " 'logisticregression__l1_ratio': None,\n",
       " 'logisticregression__max_iter': 100,\n",
       " 'logisticregression__multi_class': 'auto',\n",
       " 'logisticregression__n_jobs': None,\n",
       " 'logisticregression__penalty': 'l2',\n",
       " 'logisticregression__random_state': None,\n",
       " 'logisticregression__solver': 'lbfgs',\n",
       " 'logisticregression__tol': 0.0001,\n",
       " 'logisticregression__verbose': 0,\n",
       " 'logisticregression__warm_start': False}"
      ]
     },
     "execution_count": 51,
     "metadata": {},
     "output_type": "execute_result"
    }
   ],
   "source": [
    "pipe.get_params()"
   ]
  },
  {
   "cell_type": "code",
   "execution_count": 44,
   "id": "33e11455",
   "metadata": {},
   "outputs": [
    {
     "data": {
      "text/plain": [
       "Pipeline(steps=[('onehotencoder',\n",
       "                 OneHotEncoder(cols=['cap-shape', 'cap-surface', 'cap-color',\n",
       "                                     'bruises', 'odor', 'gill-attachment',\n",
       "                                     'gill-spacing', 'gill-size', 'gill-color',\n",
       "                                     'stalk-shape', 'stalk-root',\n",
       "                                     'stalk-surface-above-ring',\n",
       "                                     'stalk-surface-below-ring',\n",
       "                                     'stalk-color-above-ring',\n",
       "                                     'stalk-color-below-ring', 'veil-type',\n",
       "                                     'veil-color', 'ring-number', 'ring-type',\n",
       "                                     'spore-print-color', 'population',\n",
       "                                     'habitat'])),\n",
       "                ('selectkbest',\n",
       "                 SelectKBest(k=60,\n",
       "                             score_func=<function chi2 at 0x7fb6f7eb78b0>)),\n",
       "                ('logisticregression', LogisticRegression(C=1))])"
      ]
     },
     "execution_count": 44,
     "metadata": {},
     "output_type": "execute_result"
    }
   ],
   "source": [
    "pipe.fit(X_train, y_train)"
   ]
  },
  {
   "cell_type": "code",
   "execution_count": 45,
   "id": "40598874",
   "metadata": {},
   "outputs": [],
   "source": [
    "y_pred_test = pipe.predict(X_test)\n",
    "y_pred_train = pipe.predict(X_train)"
   ]
  },
  {
   "cell_type": "code",
   "execution_count": 46,
   "id": "e4880f7f",
   "metadata": {},
   "outputs": [
    {
     "name": "stdout",
     "output_type": "stream",
     "text": [
      "0.9989165763813651\n",
      "0.997384481255449\n"
     ]
    }
   ],
   "source": [
    "recall_train = recall_score(y_train, y_pred_train)\n",
    "recall_test = recall_score(y_test, y_pred_test)\n",
    "print(recall_train)\n",
    "print(recall_test)"
   ]
  },
  {
   "cell_type": "code",
   "execution_count": 47,
   "id": "cff976e3",
   "metadata": {},
   "outputs": [
    {
     "name": "stdout",
     "output_type": "stream",
     "text": [
      "0.9994723883221949\n",
      "0.9987694831829368\n"
     ]
    }
   ],
   "source": [
    "score_train = pipe.score(X_train, y_train)\n",
    "score_test = pipe.score(X_test, y_test)\n",
    "print(score_train)\n",
    "print(score_test)"
   ]
  },
  {
   "cell_type": "code",
   "execution_count": 57,
   "id": "e3843e02",
   "metadata": {},
   "outputs": [
    {
     "data": {
      "text/plain": [
       "Text(0, 0.5, 'recall')"
      ]
     },
     "execution_count": 57,
     "metadata": {},
     "output_type": "execute_result"
    },
    {
     "data": {
      "image/png": "[encoded data removed]",
      "text/plain": [
       "<Figure size 432x288 with 1 Axes>"
      ]
     },
     "metadata": {
      "needs_background": "light"
     },
     "output_type": "display_data"
    }
   ],
   "source": [
    "param_range = [10, 20, 30, 35, 40, 50, 60, 70, 80]\n",
    "train_scores, test_scores = validation_curve(\n",
    "        estimator=pipe,\n",
    "        X=X_train,\n",
    "        y=y_train,\n",
    "        param_name='selectkbest__k',\n",
    "        param_range=param_range,\n",
    "        cv=5,\n",
    "        scoring='recall'\n",
    "    )\n",
    "train_score_mean = np.mean(train_scores, axis=1)\n",
    "test_score_mean = np.mean(test_scores, axis=1)\n",
    "train_score_std = np.std(train_scores, axis=1)\n",
    "test_score_std = np.std(test_scores, axis=1)\n",
    "    \n",
    "COLORS = {'train': 'r', 'test': 'b'}\n",
    "ax = plt.gca()\n",
    "\n",
    "ax.plot(param_range, train_score_mean, color=COLORS['train'], linestyle='none',\n",
    "        marker='o', label='train')\n",
    "ax.fill_between(param_range, train_score_mean + train_score_std,\n",
    "                 train_score_mean - train_score_std, alpha=0.15,\n",
    "                 color=COLORS['train'])\n",
    "ax.plot(param_range, test_score_mean, color=COLORS['test'], linestyle='none',\n",
    "        marker='s', label='test')\n",
    "ax.fill_between(param_range, test_score_mean + test_score_std,\n",
    "                 test_score_mean - test_score_std, alpha=0.15,\n",
    "                 color=COLORS['test'])\n",
    "ax.legend()\n",
    "ax.set_xlabel('k')\n",
    "ax.set_ylabel('recall')"
   ]
  },
  {
   "cell_type": "code",
   "execution_count": null,
   "id": "10bf1dd8",
   "metadata": {},
   "outputs": [],
   "source": []
  }
 ],
 "metadata": {
  "kernelspec": {
   "display_name": "Python 3 (ipykernel)",
   "language": "python",
   "name": "python3"
  },
  "language_info": {
   "codemirror_mode": {
    "name": "ipython",
    "version": 3
   },
   "file_extension": ".py",
   "mimetype": "text/x-python",
   "name": "python",
   "nbconvert_exporter": "python",
   "pygments_lexer": "ipython3",
   "version": "3.9.7"
  }
 },
 "nbformat": 4,
 "nbformat_minor": 5
}
